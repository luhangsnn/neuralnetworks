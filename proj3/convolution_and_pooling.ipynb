{
 "cells": [
  {
   "cell_type": "markdown",
   "metadata": {},
   "source": [
    "**Roujia Zhong & Luhang Sun**\n",
    "\n",
    "Fall 2020\n",
    "\n",
    "CS343: Neural Networks\n",
    "\n",
    "Project 3: Convolutional Neural Networks"
   ],
   "execution_count": null,
   "outputs": []
  },
  {
   "cell_type": "code",
   "execution_count": null,
   "metadata": {},
   "outputs": [],
   "source": [
    "import os\n",
    "import random\n",
    "import numpy as np\n",
    "import matplotlib.pyplot as plt\n",
    "import scipy.signal as sp\n",
    "from PIL import Image\n",
    "\n",
    "plt.style.use(['seaborn-colorblind', 'seaborn-darkgrid'])\n",
    "plt.rcParams.update({'font.size': 20})\n",
    "\n",
    "np.set_printoptions(suppress=True, precision=3)\n",
    "\n",
    "# Automatically reload external modules\n",
    "%load_ext autoreload\n",
    "%autoreload 2"
   ]
  },
  {
   "cell_type": "markdown",
   "metadata": {},
   "source": [
    "## Task 1: Single channel 2D Convolution (Grayscale image filtering)\n",
    "\n",
    "As the name suggests, a critical component of a convolutional neural network is the **convolution** operation. We're going to start by implementing a function in `filter_ops.py` that convolves an image with a filter. You will make use of this function when you build the convolutional net next week. We'll make several versions of the function to help with the debugging, gradually adding complexity.\n",
    "\n",
    "First, implement `conv2_gray` according to the specifications in the comments. Run the following code to test your implementation"
   ],
   "execution_count": null,
   "outputs": []
  },
  {
   "cell_type": "markdown",
   "metadata": {},
   "source": [
    "### 1a. Single kernel synthetic data tests"
   ],
   "execution_count": null,
   "outputs": []
  },
  {
   "cell_type": "code",
   "execution_count": null,
   "metadata": {},
   "outputs": [],
   "source": [
    "from filter_ops import conv2_gray"
   ]
  },
  {
   "cell_type": "markdown",
   "metadata": {},
   "source": [
    "#### Test: Single kernel, odd image size"
   ],
   "execution_count": null,
   "outputs": []
  },
  {
   "cell_type": "code",
   "execution_count": null,
   "metadata": {},
   "outputs": [],
   "source": [
    "# Create test 'staircase' pattern 0-10 across the column dimension and replicate across rows\n",
    "test_num_cols = 7\n",
    "test_img = np.tile(1 + np.arange(0, test_num_cols), (test_num_cols, 1))\n",
    "\n",
    "# Single uniform (normalized) averaging kernel\n",
    "test_ker_sz = 2\n",
    "test_ker = np.ones([1, test_ker_sz, test_ker_sz])\n",
    "test_ker /= test_ker.sum()\n",
    "print(f'test img shape is {test_img.shape} and test ker shape is {test_ker.shape}')\n",
    "print(f'test img looks like:\\n{test_img}\\nand test ker looks like\\n{test_ker}')"
   ]
  },
  {
   "cell_type": "code",
   "execution_count": null,
   "metadata": {},
   "outputs": [],
   "source": [
    "test_out_img = conv2_gray(test_img, test_ker, verbose=True)\n",
    "print(f'Your filtered image shape is {test_out_img.shape} and it should be (1, 7, 7)')\n",
    "print(f'Here is your filtered image:')\n",
    "print('------------------------------------')\n",
    "print(test_out_img[0])\n",
    "print('------------------------------------')\n",
    "print(f'Here is what it should look like:')\n",
    "print('------------------------------------')\n",
    "print(sp.convolve2d(test_img, test_ker[0], mode='same'))\n",
    "print('------------------------------------')"
   ]
  },
  {
   "cell_type": "markdown",
   "metadata": {},
   "source": [
    "#### Test: Single kernel, even image size"
   ],
   "execution_count": null,
   "outputs": []
  },
  {
   "cell_type": "code",
   "execution_count": null,
   "metadata": {},
   "outputs": [],
   "source": [
    "# Create test 'staircase' pattern 0-10 across the column dimension and replicate across rows\n",
    "test_num_cols = 8\n",
    "test_img = np.tile(1 + np.arange(0, test_num_cols), (test_num_cols, 1))\n",
    "print(f'test img shape is {test_img.shape} and test ker shape is {test_ker.shape}')\n",
    "print(f'test img looks like:\\n{test_img}\\nand test ker looks like\\n{test_ker}')"
   ]
  },
  {
   "cell_type": "code",
   "execution_count": null,
   "metadata": {},
   "outputs": [],
   "source": [
    "test_out_img = conv2_gray(test_img, test_ker, verbose=True)\n",
    "print(f'Your filtered image shape is {test_out_img.shape} and it should be (1, 8, 8)')\n",
    "print(f'Here is your filtered image:')\n",
    "print('------------------------------------')\n",
    "print(test_out_img[0])\n",
    "print('------------------------------------')\n",
    "print(f'Here is what it should look like:')\n",
    "print('------------------------------------')\n",
    "print(sp.convolve2d(test_img, test_ker[0], mode='same'))\n",
    "print('------------------------------------')"
   ]
  },
  {
   "cell_type": "markdown",
   "metadata": {},
   "source": [
    "#### Test: Single kernel (odd shape), even image size"
   ],
   "execution_count": null,
   "outputs": []
  },
  {
   "cell_type": "code",
   "execution_count": null,
   "metadata": {},
   "outputs": [],
   "source": [
    "# Create test 'staircase' pattern 0-10 across the column dimension and replicate across rows\n",
    "test_num_cols = 8\n",
    "test_img = np.tile(1 + np.arange(0, test_num_cols), (test_num_cols+2, 1))\n",
    "\n",
    "test_ker2_sz = 5\n",
    "test_ker2 = np.ones([1, test_ker2_sz, test_ker2_sz])\n",
    "test_ker2 /= test_ker2.sum()\n",
    "print(f'test img shape is {test_img.shape} and test ker shape is {test_ker2.shape}')\n",
    "print(f'test img looks like:\\n{test_img}\\nand test ker looks like\\n{test_ker2}')"
   ]
  },
  {
   "cell_type": "code",
   "execution_count": null,
   "metadata": {},
   "outputs": [],
   "source": [
    "test_out_img = conv2_gray(test_img, test_ker2, verbose=True)\n",
    "print(f'Your filtered image shape is {test_out_img.shape} and it should be (1, 10, 8)')\n",
    "print(f'Here is your filtered image:')\n",
    "print('------------------------------------')\n",
    "print(test_out_img[0])\n",
    "print('------------------------------------')\n",
    "print(f'Here is what it should look like:')\n",
    "print('------------------------------------')\n",
    "print(sp.convolve2d(test_img, test_ker2[0], mode='same'))\n",
    "print('------------------------------------')"
   ]
  },
  {
   "cell_type": "markdown",
   "metadata": {},
   "source": [
    "### 1b. Multiple kernel grayscale image tests"
   ],
   "execution_count": null,
   "outputs": []
  },
  {
   "cell_type": "markdown",
   "metadata": {},
   "source": [
    "Now you're ready to test your convolution function on an actual image!\n",
    "\n",
    "#### 1b (i). Load in clownfish image\n",
    "\n",
    "Download the image of the clown fish from the project website (`clownfish.png`). Put it in a folder called `images/` in your project working directory then run the following code to import it."
   ],
   "execution_count": null,
   "outputs": []
  },
  {
   "cell_type": "code",
   "execution_count": null,
   "metadata": {},
   "outputs": [],
   "source": [
    "# Load in the clownfish image then convert to grayscale for testing\n",
    "clownfish = Image.open('images/clownfish.png', 'r')\n",
    "clownfish_gray = clownfish.convert('L')  # convert to grayscale\n",
    "clownfish_gray"
   ]
  },
  {
   "cell_type": "markdown",
   "metadata": {},
   "source": [
    "#### 1b (ii). Generate and plot Gabor filters\n",
    "\n",
    "Run the following code to define and plot Gabor filters. You will uses these filters to test out your convolution.\n",
    "\n",
    "Gabor filters are a broad class of kernels, and the following function generates those that approximate the receptive field of certain neurons (**simple cells**) in an area of the brain called primary visual cortex (V1). The equation comes from an analysis of the neurophysiological data by Lee (1996): \n",
    "\n",
    "http://leelab.cnbc.cmu.edu/publication/assets/links/ImageRepre.pdf"
   ],
   "execution_count": null,
   "outputs": []
  },
  {
   "cell_type": "code",
   "execution_count": null,
   "metadata": {},
   "outputs": [],
   "source": [
    "def gabor(filter_sz_xy, w, theta, K=np.pi):\n",
    "    ''' Generates a simple cell-like Gabor filter.\n",
    "    \n",
    "    Parameters:\n",
    "    -----------\n",
    "    filter_sz_xy: tuple. shape=(filter width, filter height)\n",
    "    w: float. spatial frequency of the filter\n",
    "    theta: float. Angular direction of the filter in radians\n",
    "    K: float. Angular phase of the filter in radians\n",
    "    '''\n",
    "    rad_x, rad_y = filter_sz_xy\n",
    "    rad_x, rad_y = int(rad_x/2), int(rad_y/2)\n",
    "    [x, y] = np.meshgrid(np.arange(-rad_x, rad_x+1), np.arange(-rad_y, rad_y+1))\n",
    "\n",
    "    x_p = x*np.cos(theta) + y*np.sin(theta)\n",
    "    y_p = -x*np.sin(theta) + y*np.cos(theta)\n",
    "    \n",
    "    # Take the real part of the filter\n",
    "    gauss = w**2 / (4*np.pi*K**2) * np.exp(-(w**2/(8*K**2)) * (4*x_p**2 + y_p**2))\n",
    "    sinusoid = np.cos(w*x_p) * np.exp(K**2/2)\n",
    "    gabor = gauss * sinusoid\n",
    "    return gabor\n",
    "\n",
    "\n",
    "def plot_image_panel(imgs):\n",
    "    fig, axes = plt.subplots(ncols=len(imgs), figsize=(3*len(imgs),6))\n",
    "    if len(imgs) == 1:\n",
    "        axes.imshow(imgs[0])\n",
    "        axes.set_xticks([])\n",
    "        axes.set_yticks([])\n",
    "    else:\n",
    "        for ax, img in zip(axes, imgs):\n",
    "            ax.imshow(img)\n",
    "            ax.set_xticks([])\n",
    "            ax.set_yticks([])\n",
    "    plt.show()"
   ]
  },
  {
   "cell_type": "code",
   "execution_count": null,
   "metadata": {},
   "outputs": [],
   "source": [
    "gabor_kers = []\n",
    "for th in np.arange(-np.pi/2, np.pi/2, np.pi/8):\n",
    "    gabor_kers.append(gabor(filter_sz_xy=[121, 121], w=0.25, theta=th))\n",
    "plot_image_panel(gabor_kers)"
   ]
  },
  {
   "cell_type": "markdown",
   "metadata": {},
   "source": [
    "#### 1b (iii). Create Gabor filters for convolution"
   ],
   "execution_count": null,
   "outputs": []
  },
  {
   "cell_type": "markdown",
   "metadata": {},
   "source": [
    "These filters look nice, but their 121x121 size adds needless computation time (especially just to test your convolution function!).\n",
    "\n",
    "Write code below that generates 4 Gabor filters that respond to vertical, horizontal, and $\\pm$ 45 degree bar orientations with spatial frequency 2 and filter size (21, 21). Convert the list to a numpy array (`shape = (4, 21, 21)`).\n",
    "\n",
    "Note: the `gabor` function assumes the angles are in radians, not degrees"
   ],
   "execution_count": null,
   "outputs": []
  },
  {
   "cell_type": "code",
   "execution_count": null,
   "metadata": {},
   "outputs": [],
   "source": [
    "# Set up test filters\n",
    "\n",
    "print(f'Test kernels have shape {gabor_kers.shape} and it should be (4, 21, 21)')"
   ]
  },
  {
   "cell_type": "markdown",
   "metadata": {},
   "source": [
    "#### 1b (iv). Questions"
   ],
   "execution_count": null,
   "outputs": []
  },
  {
   "cell_type": "markdown",
   "metadata": {},
   "source": [
    "The following code should produce four images that look like the clown fish but on a gray background.\n",
    "\n",
    "**Question 1:** What is each filter picking up in the image?"
   ],
   "execution_count": null,
   "outputs": []
  },
  {
   "cell_type": "markdown",
   "metadata": {},
   "source": [
    "**Answer 1:** "
   ],
   "execution_count": null,
   "outputs": []
  },
  {
   "cell_type": "code",
   "execution_count": null,
   "metadata": {},
   "outputs": [],
   "source": [
    "clownfish_gray_np = np.array(clownfish_gray)\n",
    "clownfish_gray_out = conv2_gray(clownfish_gray_np, gabor_kers)\n",
    "print(f'Your filtered clown fish shape is {clownfish_gray_out.shape} and it should be (4, 238, 241)')\n",
    "plot_image_panel(clownfish_gray_out)"
   ]
  },
  {
   "cell_type": "markdown",
   "metadata": {},
   "source": [
    "## Task 2: Multi-channel 2D Convolution (RGB color image filtering)\n",
    "\n",
    "Once you have your grayscale convolution working, copy-and-paste your code into the more general function `conv2`.\n",
    "\n",
    "The difference with this new function is that the `img` input has a leading dimension for color channel. For example, `(3, 200, 200)` for a color image and `(1, 200, 200)` for grayscale. \n",
    "\n",
    "It shouldn't take a great deal of work to modify your `conv2_gray` code for this new case. See the function docstring for some hints."
   ],
   "execution_count": null,
   "outputs": []
  },
  {
   "cell_type": "code",
   "execution_count": null,
   "metadata": {},
   "outputs": [],
   "source": [
    "from filter_ops import conv2"
   ]
  },
  {
   "cell_type": "markdown",
   "metadata": {},
   "source": [
    "### 2a. Preprocess color clownfish image\n",
    "\n",
    "In the cell below, take the color clownfish image and convert it to a numpy array called `clownfish_np` (*this is the variable name is assumed by test code*). Drop the 4th color channel (alpha channel) so that ony RGB channels remain. Also, restructure the dimensions so that the color channel is first (*see below test code*). Before transposing the image dimensions, `plt.imshow` should give you an output that looks like this:\n",
    "\n",
    "<img src=\"data/clownfish.png\" width=\"200\">"
   ],
   "execution_count": null,
   "outputs": []
  },
  {
   "cell_type": "code",
   "execution_count": null,
   "metadata": {},
   "outputs": [],
   "source": [
    "# Your code here\n",
    "clownfish = Image.open('images/clownfish.png', 'r')\n",
    "clownfish_np = np.array(clownfish)\n",
    "clownfish_np = np.delete(clownfish_np, 3, 2)\n",
    "# plt.imshow(clownfish_np)\n",
    "clownfish_np = np.transpose(clownfish_np, (2, 0, 1))\n",
    "print(f'Raw color clown fish image is {clownfish_np.shape} and should be (3, 238, 241)')"
   ]
  },
  {
   "cell_type": "markdown",
   "metadata": {},
   "source": [
    "### 2b. Box filter test\n",
    "\n",
    "Make a 11x11 box filter, with constant, identical positive values normalized so that the entire filter sums to 1.\n",
    "\n",
    "Add a leading singleton dimension so shape is `(1, 11, 11)`"
   ],
   "execution_count": null,
   "outputs": []
  },
  {
   "cell_type": "code",
   "execution_count": null,
   "metadata": {},
   "outputs": [],
   "source": [
    "# filter with box kernels\n",
    "box_ker_sz = 11\n",
    "box_ker = np.ones([1, box_ker_sz, box_ker_sz])\n",
    "box_ker /= box_ker.sum()\n",
    "# three_kers = np.concatenate([sobel_ops, box_ker])\n",
    "print(f'Test kernels shape is {box_ker.shape} and should be (1, 11, 11)')\n",
    "print(f'box ker looks like\\n{box_ker}')"
   ]
  },
  {
   "cell_type": "code",
   "execution_count": null,
   "metadata": {
    "tags": [
     "outputPrepend",
     "outputPrepend",
     "outputPrepend",
     "outputPrepend",
     "outputPrepend",
     "outputPrepend",
     "outputPrepend",
     "outputPrepend",
     "outputPrepend",
     "outputPrepend",
     "outputPrepend",
     "outputPrepend",
     "outputPrepend",
     "outputPrepend",
     "outputPrepend",
     "outputPrepend",
     "outputPrepend",
     "outputPrepend",
     "outputPrepend",
     "outputPrepend",
     "outputPrepend",
     "outputPrepend",
     "outputPrepend",
     "outputPrepend",
     "outputPrepend",
     "outputPrepend",
     "outputPrepend",
     "outputPrepend",
     "outputPrepend",
     "outputPrepend",
     "outputPrepend",
     "outputPrepend",
     "outputPrepend",
     "outputPrepend",
     "outputPrepend",
     "outputPrepend",
     "outputPrepend",
     "outputPrepend",
     "outputPrepend",
     "outputPrepend",
     "outputPrepend",
     "outputPrepend",
     "outputPrepend",
     "outputPrepend",
     "outputPrepend",
     "outputPrepend",
     "outputPrepend",
     "outputPrepend",
     "outputPrepend",
     "outputPrepend",
     "outputPrepend"
    ]
   },
   "outputs": [],
   "source": [
    "clownfish_out = conv2(clownfish_np, box_ker, verbose=True)\n",
    "print(f'Your filtered clown fish shape is {clownfish_out.shape} and it should be (1, 3, 238, 241)')"
   ]
  },
  {
   "cell_type": "markdown",
   "metadata": {},
   "source": [
    "### 2c. Visualize output of RGB box filter convolution of clownfish image\n",
    "\n",
    "In the cell below:\n",
    "\n",
    "- Convert the convolution output to uint8.\n",
    "- Permute the dimensions for visualization so that they are: `n_kers, img_y, img_x, n_chans` = (1, 238, 241, 3).\n",
    "- Visualize using the `plot_image_panel` function, defined above.\n",
    "\n",
    "If all goes well, you should see a blurrier version of the input image (seemingly smaller because of the way we're plotting it, but the colors should look right)."
   ],
   "execution_count": null,
   "outputs": []
  },
  {
   "cell_type": "code",
   "execution_count": null,
   "metadata": {},
   "outputs": [],
   "source": [
    "# Your code here\n",
    "out = clownfish_out.astype(np.uint8)\n",
    "out = np.transpose(out, (0,2,3,1))\n",
    "plot_image_panel(out)"
   ]
  },
  {
   "cell_type": "markdown",
   "metadata": {},
   "source": [
    "**Question 2:** What do you notice (other than the blurriness) that is different about this filtered image compared to the original? Why does this happen?"
   ],
   "execution_count": null,
   "outputs": []
  },
  {
   "cell_type": "markdown",
   "metadata": {},
   "source": [
    "**Answer 2:** "
   ],
   "execution_count": null,
   "outputs": []
  },
  {
   "cell_type": "markdown",
   "metadata": {},
   "source": [
    "### 2d. Gabor filter color image test\n",
    "\n",
    "Finally, we'll test your color convolution function with the gabor filters"
   ],
   "execution_count": null,
   "outputs": []
  },
  {
   "cell_type": "code",
   "execution_count": null,
   "metadata": {},
   "outputs": [],
   "source": [
    "clownfish_gabor_out = conv2(clownfish_np, gabor_kers)\n",
    "print(f'Your filtered clown fish shape is {clownfish_gabor_out.shape} and it should be (4, 3, 238, 241)')"
   ]
  },
  {
   "cell_type": "markdown",
   "metadata": {},
   "source": [
    "### 2e. Visualize output of RGB Gabor filter convolution of clownfish image\n",
    "\n",
    "In the cell below:\n",
    "\n",
    "- Normalize the convolution output based on the **dynamic range** of the image (the \"CS251 way\"). Do this normalization across RGB channels (i.e. the color channel dimension): for every pixel of every image, select the `min`/`max` values among each RGB triplet. Using `keepdims` might be useful here to do this without for loops.\n",
    "- Scale the output to the range 0-255 within each color channel — i.e. the max of each RGB channel should be (255, 255, 255) for (R, G, B). \n",
    "- Permute the dimensions for visualization so that they are: `n_kers, img_y, img_x, n_chans`. The ultimate shape after your operations is `(4, 238, 241, 3)`\n",
    "- Convert the output to uint8.\n",
    "- Visualize using the `plot_image_panel` function, defined above.\n",
    "\n",
    "If everything goes well, you should see a similar pattern as in your grayscale filtered images, but now with watercolor/stained glass-like psychedelic colors!"
   ],
   "execution_count": null,
   "outputs": []
  },
  {
   "cell_type": "code",
   "execution_count": null,
   "metadata": {},
   "outputs": [],
   "source": [
    "# Your code here"
   ]
  },
  {
   "cell_type": "markdown",
   "metadata": {},
   "source": [
    "### 2f. Neural net convolution\n",
    "\n",
    "Now you're ready to implement the convolution function that we'll use in our convolutional neural network. Copy-and-paste your `conv2` code into `conv2nn` within `filter_ops.py` and make the modifications specified in the docstring."
   ],
   "execution_count": null,
   "outputs": []
  },
  {
   "cell_type": "code",
   "execution_count": null,
   "metadata": {},
   "outputs": [],
   "source": [
    "from filter_ops import conv2nn"
   ]
  },
  {
   "cell_type": "markdown",
   "metadata": {},
   "source": [
    "#### Test: Multiple images and Gabor filters\n",
    "\n",
    "This test is simply to pass two copies of the clown fish image to `conv2nn`. The corresponding filtered images should look identical"
   ],
   "execution_count": null,
   "outputs": []
  },
  {
   "cell_type": "code",
   "execution_count": null,
   "metadata": {},
   "outputs": [],
   "source": [
    "imgs = np.stack([clownfish_np, clownfish_np])\n",
    "bias = np.zeros(len(gabor_kers))\n",
    "print(f'Test img shape is {imgs.shape}')"
   ]
  },
  {
   "cell_type": "code",
   "execution_count": null,
   "metadata": {},
   "outputs": [],
   "source": [
    "# Make a new axis for color channel and replicate the Gabors across that channel so that each RGB channel\n",
    "# is filtered by the same filters\n",
    "gabor_kers_chans = np.tile(gabor_kers[:, np.newaxis, :, :], (3, 1, 1, ))\n",
    "print(f'Test gabor filter shape is {gabor_kers_chans.shape}')"
   ]
  },
  {
   "cell_type": "code",
   "execution_count": null,
   "metadata": {},
   "outputs": [],
   "source": [
    "clownfish_color_imgs_out = conv2nn(imgs, gabor_kers_chans, bias)\n",
    "print(f'Your filtered clown fish shape is {clownfish_color_imgs_out.shape} and it should be (2, 4, 238, 241)')\n",
    "if np.all(clownfish_color_imgs_out[0] == clownfish_color_imgs_out[1]):\n",
    "    print('Your filter maps are identical as expected!')\n",
    "else:\n",
    "    print('Your filter maps are not the same :(')\n",
    "\n",
    "plot_image_panel(clownfish_color_imgs_out[0])"
   ]
  },
  {
   "cell_type": "markdown",
   "metadata": {},
   "source": [
    "#### Test: Multiple images and Gabor filters with a different bias term"
   ],
   "execution_count": null,
   "outputs": []
  },
  {
   "cell_type": "code",
   "execution_count": null,
   "metadata": {},
   "outputs": [],
   "source": [
    "bias = 10*np.ones(len(gabor_kers_chans))\n",
    "clownfish_color_imgs_out2 = conv2nn(imgs, gabor_kers_chans, bias)\n",
    "print(f'Your filtered clown fish shape is {clownfish_color_imgs_out2.shape} and it should be (2, 4, 238, 241)')\n",
    "if np.all(clownfish_color_imgs_out2[0] == clownfish_color_imgs_out2[1]):\n",
    "    print('Your filter maps are identical as expected!')\n",
    "else:\n",
    "    print('Your filter maps are not the same :(')\n",
    "print(f'(bias test) The minimum value in your filtered images is {clownfish_color_imgs_out2.min():.2f} and it should be -6560.38')"
   ]
  },
  {
   "cell_type": "markdown",
   "metadata": {},
   "source": [
    "## Task 3: 2D max pooling\n",
    "\n",
    "We took care to preserve the spatial dimensions of the input image in our convolution operation. Convolutional networks often have a 'pyramid' shape, where the spatial dimensions reduce in size as you go deeper up the net. This is usually achieved with a pooling operation (usually max, like you will implement here, or mean), which complements the convolution. Convolution and pooling operations are often interdigitated layer-to-layer.\n",
    "\n",
    "We will implement this function in two stages to help with the debugging.\n",
    "\n",
    "### 3a. Implement max pooling and synthetic data tests\n",
    "\n",
    "In `filter_ops.py` implement the `max_pool` function, then run the following test code."
   ],
   "execution_count": null,
   "outputs": []
  },
  {
   "cell_type": "code",
   "execution_count": null,
   "metadata": {},
   "outputs": [],
   "source": [
    "from filter_ops import max_pool"
   ]
  },
  {
   "cell_type": "markdown",
   "metadata": {},
   "source": [
    "#### Testing: Even checkerboard"
   ],
   "execution_count": null,
   "outputs": []
  },
  {
   "cell_type": "code",
   "execution_count": null,
   "metadata": {},
   "outputs": [],
   "source": [
    "# Create simple checkerboard pattern for testing.\n",
    "# NOTE: We're creating an extra singleton dimension \n",
    "grid = np.tile(np.stack([np.array([1, 0]*5), np.array([0, 0]*5)]), (3, 1))\n",
    "print(f'Image shape is {grid.shape}')\n",
    "print(f'The checkerboard image looks like\\n{grid}')"
   ]
  },
  {
   "cell_type": "code",
   "execution_count": null,
   "metadata": {},
   "outputs": [],
   "source": [
    "grid_pooled = max_pool(grid)\n",
    "print(f'Pooled image shape is {grid_pooled.shape} and it should be (5, 9)')\n",
    "print(f'Here is your max filtered checkerboard. It should contain all ones:\\n{grid_pooled}')"
   ]
  },
  {
   "cell_type": "markdown",
   "metadata": {},
   "source": [
    "Testing stride:"
   ],
   "execution_count": null,
   "outputs": []
  },
  {
   "cell_type": "code",
   "execution_count": null,
   "metadata": {},
   "outputs": [],
   "source": [
    "grid_pooled = max_pool(grid, strides=2)\n",
    "print(f'Pooled image shape is {grid_pooled.shape} and it should be (3, 5)')\n",
    "print(f'Here is your max filtered checkerboard. It should contain all ones:\\n{grid_pooled}')"
   ]
  },
  {
   "cell_type": "markdown",
   "metadata": {},
   "source": [
    "#### Testing: Odd checkerboard"
   ],
   "execution_count": null,
   "outputs": []
  },
  {
   "cell_type": "code",
   "execution_count": null,
   "metadata": {},
   "outputs": [],
   "source": [
    "# Create simple checkerboard pattern for testing\n",
    "grid_odd = np.tile(np.stack([np.array([1, 0]*2), np.array([0, 0]*2), np.array([1, 0]*2)]), (3, 1))\n",
    "print(f'Image shape is {grid_odd.shape}')\n",
    "print(f'The odd checkerboard image looks like\\n{grid_odd}')"
   ]
  },
  {
   "cell_type": "code",
   "execution_count": null,
   "metadata": {},
   "outputs": [],
   "source": [
    "grid_pooled = max_pool(grid_odd)\n",
    "print(f'Pooled image shape is {grid_pooled.shape} and it should be (8, 3)')\n",
    "print('Here is your max filtered checkerboard. It should contain all ones:')\n",
    "print(f'Here is your odd max filtered checkerboard. It should contain all ones:\\n{grid_pooled}')"
   ]
  },
  {
   "cell_type": "markdown",
   "metadata": {},
   "source": [
    "Testing stride:"
   ],
   "execution_count": null,
   "outputs": []
  },
  {
   "cell_type": "code",
   "execution_count": null,
   "metadata": {},
   "outputs": [],
   "source": [
    "grid_pooled = max_pool(grid_odd, strides=2)\n",
    "print(f'Pooled image shape is {grid_pooled.shape} and it should be (4, 2)')\n",
    "print(f'Here is your max filtered checkerboard. It should contain all ones:\\n{grid_pooled}')"
   ]
  },
  {
   "cell_type": "markdown",
   "metadata": {},
   "source": [
    "#### Testing: bars"
   ],
   "execution_count": null,
   "outputs": []
  },
  {
   "cell_type": "code",
   "execution_count": null,
   "metadata": {},
   "outputs": [],
   "source": [
    "# Create simple bar pattern for testing\n",
    "bars = np.tile(np.stack([np.array([1]*10), np.array([0]*10), np.array([0]*10), np.array([0]*10)]), (3, 1))\n",
    "print(f'Image shape is {bars.shape}')\n",
    "print(f'Here are your bar inputs:\\n{bars}')"
   ]
  },
  {
   "cell_type": "code",
   "execution_count": null,
   "metadata": {},
   "outputs": [],
   "source": [
    "bars_pooled = max_pool(bars)\n",
    "print(f'Pooled image shape is {bars_pooled.shape} and it should be (11, 9)')\n",
    "print(f'Here are your max filtered bars:\\n{bars_pooled}')"
   ]
  },
  {
   "cell_type": "markdown",
   "metadata": {},
   "source": [
    "Here is what it should look like:\n",
    "\n",
    "    [[1. 1. 1. 1. 1. 1. 1. 1. 1.]\n",
    "     [0. 0. 0. 0. 0. 0. 0. 0. 0.]\n",
    "     [0. 0. 0. 0. 0. 0. 0. 0. 0.]\n",
    "     [1. 1. 1. 1. 1. 1. 1. 1. 1.]\n",
    "     [1. 1. 1. 1. 1. 1. 1. 1. 1.]\n",
    "     [0. 0. 0. 0. 0. 0. 0. 0. 0.]\n",
    "     [0. 0. 0. 0. 0. 0. 0. 0. 0.]\n",
    "     [1. 1. 1. 1. 1. 1. 1. 1. 1.]\n",
    "     [1. 1. 1. 1. 1. 1. 1. 1. 1.]\n",
    "     [0. 0. 0. 0. 0. 0. 0. 0. 0.]\n",
    "     [0. 0. 0. 0. 0. 0. 0. 0. 0.]]"
   ],
   "execution_count": null,
   "outputs": []
  },
  {
   "cell_type": "markdown",
   "metadata": {},
   "source": [
    "Testing stride of 2:"
   ],
   "execution_count": null,
   "outputs": []
  },
  {
   "cell_type": "code",
   "execution_count": null,
   "metadata": {},
   "outputs": [],
   "source": [
    "bars_pooled = max_pool(bars, strides=2)\n",
    "print(f'Pooled image shape is {bars_pooled.shape} and it should be (6, 5)')\n",
    "print(f'Here are your max filtered bars:\\n{bars_pooled}')"
   ]
  },
  {
   "cell_type": "markdown",
   "metadata": {},
   "source": [
    "Here is what it should look like:\n",
    "\n",
    "    [[1. 1. 1. 1. 1.]\n",
    "     [0. 0. 0. 0. 0.]\n",
    "     [1. 1. 1. 1. 1.]\n",
    "     [0. 0. 0. 0. 0.]\n",
    "     [1. 1. 1. 1. 1.]\n",
    "     [0. 0. 0. 0. 0.]]"
   ],
   "execution_count": null,
   "outputs": []
  },
  {
   "cell_type": "markdown",
   "metadata": {},
   "source": [
    "Testing stride of 3:"
   ],
   "execution_count": null,
   "outputs": []
  },
  {
   "cell_type": "code",
   "execution_count": null,
   "metadata": {},
   "outputs": [],
   "source": [
    "bars_pooled = max_pool(bars, strides=3)\n",
    "print(f'Pooled image shape is {bars_pooled.shape} and it should be (4, 3)')\n",
    "print(f'Here are your max filtered bars:\\n{bars_pooled}')"
   ]
  },
  {
   "cell_type": "markdown",
   "metadata": {},
   "source": [
    "Here is what it should look like:\n",
    "\n",
    "    [[1. 1. 1.]\n",
    "     [1. 1. 1.]\n",
    "     [0. 0. 0.]\n",
    "     [0. 0. 0.]]"
   ],
   "execution_count": null,
   "outputs": []
  },
  {
   "cell_type": "markdown",
   "metadata": {},
   "source": [
    "Testing pooling size of 3:"
   ],
   "execution_count": null,
   "outputs": []
  },
  {
   "cell_type": "code",
   "execution_count": null,
   "metadata": {},
   "outputs": [],
   "source": [
    "bars_pooled = max_pool(bars, pool_size=3)\n",
    "print(f'Pooled image shape is {bars_pooled.shape} and it should be (10, 8)')\n",
    "print(f'Here are your max filtered bars:\\n{bars_pooled}')"
   ]
  },
  {
   "cell_type": "markdown",
   "metadata": {},
   "source": [
    "Here is what it should look like:\n",
    "\n",
    "    [[1. 1. 1. 1. 1. 1. 1. 1.]\n",
    "     [0. 0. 0. 0. 0. 0. 0. 0.]\n",
    "     [1. 1. 1. 1. 1. 1. 1. 1.]\n",
    "     [1. 1. 1. 1. 1. 1. 1. 1.]\n",
    "     [1. 1. 1. 1. 1. 1. 1. 1.]\n",
    "     [0. 0. 0. 0. 0. 0. 0. 0.]\n",
    "     [1. 1. 1. 1. 1. 1. 1. 1.]\n",
    "     [1. 1. 1. 1. 1. 1. 1. 1.]\n",
    "     [1. 1. 1. 1. 1. 1. 1. 1.]\n",
    "     [0. 0. 0. 0. 0. 0. 0. 0.]]"
   ],
   "execution_count": null,
   "outputs": []
  },
  {
   "cell_type": "markdown",
   "metadata": {},
   "source": [
    "### 3b. Implement and test `max_poolnn`\n",
    "\n",
    "Add mini-batch and color channel support to your `max_pool` function. Copy-and-paste your max pooling code into `max_poolnn` to get started. Check your implementation with the following test code."
   ],
   "execution_count": null,
   "outputs": []
  },
  {
   "cell_type": "code",
   "execution_count": null,
   "metadata": {},
   "outputs": [],
   "source": [
    "from filter_ops import max_poolnn"
   ]
  },
  {
   "cell_type": "markdown",
   "metadata": {},
   "source": [
    "#### Test: Simple bars\n",
    "\n",
    "Testing pooling size of 2 and stride 2"
   ],
   "execution_count": null,
   "outputs": []
  },
  {
   "cell_type": "code",
   "execution_count": null,
   "metadata": {},
   "outputs": [],
   "source": [
    "# Create simple bar pattern for testing\n",
    "bars_batch = np.tile(np.stack([np.array([1]*10), np.array([0]*10), np.array([0]*10), np.array([0]*10)]), (1, 1, 3, 1))\n",
    "print(f'Image shape is {bars_batch.shape}')\n",
    "print(f'Here are your bar inputs:\\n{bars_batch[0,0]}')"
   ]
  },
  {
   "cell_type": "code",
   "execution_count": null,
   "metadata": {},
   "outputs": [],
   "source": [
    "bars_batch_pooled = max_poolnn(bars_batch, strides=2, pool_size=2)\n",
    "print(f'Pooled image shape is {bars_batch_pooled.shape} and it should be (1, 1, 6, 5)')\n",
    "print(f'Here are your max filtered bars:\\n{bars_batch_pooled[0,0]}')"
   ]
  },
  {
   "cell_type": "markdown",
   "metadata": {},
   "source": [
    "Here is what it should look like:\n",
    "\n",
    "    [[1. 1. 1. 1. 1.]\n",
    "     [0. 0. 0. 0. 0.]\n",
    "     [1. 1. 1. 1. 1.]\n",
    "     [0. 0. 0. 0. 0.]\n",
    "     [1. 1. 1. 1. 1.]\n",
    "     [0. 0. 0. 0. 0.]]"
   ],
   "execution_count": null,
   "outputs": []
  },
  {
   "cell_type": "markdown",
   "metadata": {},
   "source": [
    "#### Test on real image\n",
    "\n",
    "In the cell below, take your color clownfish image in numpy array format and add a leading singleton for the batch dimension. The following test code assumes the variable is called `clownfish_np_batch`."
   ],
   "execution_count": null,
   "outputs": []
  },
  {
   "cell_type": "code",
   "execution_count": null,
   "metadata": {},
   "outputs": [],
   "source": [
    "# Your code here\n",
    "\n",
    "print(f'Shape of clownfish image is {clownfish_np_batch.shape}')"
   ]
  },
  {
   "cell_type": "code",
   "execution_count": null,
   "metadata": {},
   "outputs": [],
   "source": [
    "clownfish_mp = max_poolnn(clownfish_np_batch, pool_size=8)\n",
    "print(f'Pooled image shape is {clownfish_mp.shape} and it should be (1, 3, 231, 234)')"
   ]
  },
  {
   "cell_type": "markdown",
   "metadata": {},
   "source": [
    "### 3c. Visualize output of max pooling of clownfish image\n",
    "\n",
    "In the cell below:\n",
    "\n",
    "- Permute the dimensions of `img_pooled` so that it is `batch, img_y, img_x, n_chans` = (1, 231, 234, 3).\n",
    "- Convert the output to uint8.\n",
    "- Visualize using the `plot_image_panel` function, defined above.\n",
    "\n",
    "If everything goes well, it should look like a blocky version of the original image (with color)."
   ],
   "execution_count": null,
   "outputs": []
  },
  {
   "cell_type": "code",
   "execution_count": null,
   "metadata": {},
   "outputs": [],
   "source": [
    "# Your code here"
   ]
  }
 ],
 "metadata": {
  "kernelspec": {
   "display_name": "Python 3",
   "language": "python",
   "name": "python3"
  },
  "language_info": {
   "codemirror_mode": {
    "name": "ipython",
    "version": 3
   },
   "file_extension": ".py",
   "mimetype": "text/x-python",
   "name": "python",
   "nbconvert_exporter": "python",
   "pygments_lexer": "ipython3",
   "version": "3.7.0-final"
  }
 },
 "nbformat": 4,
 "nbformat_minor": 2
}